{
 "cells": [
  {
   "cell_type": "markdown",
   "id": "2bf245cd",
   "metadata": {},
   "source": [
    "# Numpy Demo"
   ]
  },
  {
   "cell_type": "markdown",
   "id": "1afeeb26",
   "metadata": {},
   "source": [
    "This is just a cheat sheet from Patrick Löber. If you want further information on this, you may refer back to this tutorial:\n",
    "\n",
    "https://www.youtube.com/watch?v=9JUAPgtkKpI"
   ]
  },
  {
   "cell_type": "markdown",
   "id": "182a4000",
   "metadata": {},
   "source": [
    "## Installation and Array Basics"
   ]
  },
  {
   "cell_type": "code",
   "execution_count": 6,
   "id": "b8bb0103",
   "metadata": {},
   "outputs": [
    {
     "name": "stdout",
     "output_type": "stream",
     "text": [
      "Requirement already satisfied: numpy in /Users/nirelibarra/opt/anaconda3/lib/python3.9/site-packages (1.21.5)\n",
      "Note: you may need to restart the kernel to use updated packages.\n"
     ]
    }
   ],
   "source": [
    "pip install numpy"
   ]
  },
  {
   "cell_type": "code",
   "execution_count": 7,
   "id": "f7fe59d5",
   "metadata": {},
   "outputs": [],
   "source": [
    "#or: conda install numpy"
   ]
  },
  {
   "cell_type": "markdown",
   "id": "686bf599",
   "metadata": {},
   "source": [
    "Import numpy:"
   ]
  },
  {
   "cell_type": "code",
   "execution_count": 8,
   "id": "74e07bbf",
   "metadata": {},
   "outputs": [],
   "source": [
    "import numpy as np"
   ]
  },
  {
   "cell_type": "markdown",
   "id": "8ea510bf",
   "metadata": {},
   "source": [
    "Check version of Numpy"
   ]
  },
  {
   "cell_type": "code",
   "execution_count": 11,
   "id": "b89d7be2",
   "metadata": {},
   "outputs": [
    {
     "data": {
      "text/plain": [
       "'1.21.5'"
      ]
     },
     "execution_count": 11,
     "metadata": {},
     "output_type": "execute_result"
    }
   ],
   "source": [
    "np.__version__"
   ]
  },
  {
   "cell_type": "markdown",
   "id": "92c3f92b",
   "metadata": {},
   "source": [
    "Central object is the array"
   ]
  },
  {
   "cell_type": "code",
   "execution_count": 19,
   "id": "10dc1930",
   "metadata": {},
   "outputs": [
    {
     "data": {
      "text/plain": [
       "array([1, 2, 3, 4, 5])"
      ]
     },
     "execution_count": 19,
     "metadata": {},
     "output_type": "execute_result"
    }
   ],
   "source": [
    "a = np.array([1,2,3,4,5])\n",
    "\n",
    "a # [1 2 3 4 5]"
   ]
  },
  {
   "cell_type": "code",
   "execution_count": 20,
   "id": "6f343064",
   "metadata": {},
   "outputs": [
    {
     "data": {
      "text/plain": [
       "(5,)"
      ]
     },
     "execution_count": 20,
     "metadata": {},
     "output_type": "execute_result"
    }
   ],
   "source": [
    "#shape of the array\n",
    "a.shape"
   ]
  },
  {
   "cell_type": "code",
   "execution_count": 21,
   "id": "bb49eef5",
   "metadata": {},
   "outputs": [
    {
     "data": {
      "text/plain": [
       "dtype('int64')"
      ]
     },
     "execution_count": 21,
     "metadata": {},
     "output_type": "execute_result"
    }
   ],
   "source": [
    "#type of elements\n",
    "a.dtype"
   ]
  },
  {
   "cell_type": "code",
   "execution_count": 22,
   "id": "56e2707b",
   "metadata": {},
   "outputs": [
    {
     "data": {
      "text/plain": [
       "1"
      ]
     },
     "execution_count": 22,
     "metadata": {},
     "output_type": "execute_result"
    }
   ],
   "source": [
    "# number of dimensions\n",
    "a.ndim"
   ]
  },
  {
   "cell_type": "code",
   "execution_count": 23,
   "id": "4f3b92f3",
   "metadata": {},
   "outputs": [
    {
     "data": {
      "text/plain": [
       "5"
      ]
     },
     "execution_count": 23,
     "metadata": {},
     "output_type": "execute_result"
    }
   ],
   "source": [
    "# total number of elements\n",
    "a.size"
   ]
  },
  {
   "cell_type": "code",
   "execution_count": 24,
   "id": "cd8a9cb7",
   "metadata": {},
   "outputs": [
    {
     "data": {
      "text/plain": [
       "8"
      ]
     },
     "execution_count": 24,
     "metadata": {},
     "output_type": "execute_result"
    }
   ],
   "source": [
    "# the size in bytes of each elements\n",
    "a.itemsize"
   ]
  },
  {
   "cell_type": "markdown",
   "id": "e55b8432",
   "metadata": {},
   "source": [
    "Essential Methods"
   ]
  },
  {
   "cell_type": "code",
   "execution_count": 25,
   "id": "924f789d",
   "metadata": {},
   "outputs": [],
   "source": [
    "a = np.array([1,2,3])"
   ]
  },
  {
   "cell_type": "code",
   "execution_count": 26,
   "id": "77039855",
   "metadata": {},
   "outputs": [
    {
     "name": "stdout",
     "output_type": "stream",
     "text": [
      "1\n",
      "[5 2 3]\n"
     ]
    }
   ],
   "source": [
    "# access and change elements\n",
    "print(a[0])\n",
    "a[0] = 5\n",
    "print(a) "
   ]
  },
  {
   "cell_type": "code",
   "execution_count": 27,
   "id": "b8efd6fc",
   "metadata": {},
   "outputs": [
    {
     "name": "stdout",
     "output_type": "stream",
     "text": [
      "[10  0  6]\n",
      "10\n"
     ]
    }
   ],
   "source": [
    "# elementwise math operations\n",
    "b = a * np.array([2,0,2])\n",
    "print(b) \n",
    "print(a.sum())"
   ]
  },
  {
   "cell_type": "markdown",
   "id": "0142fb24",
   "metadata": {},
   "source": [
    "## Array vs. List"
   ]
  },
  {
   "cell_type": "code",
   "execution_count": 28,
   "id": "540e91a0",
   "metadata": {},
   "outputs": [],
   "source": [
    "l = [1,2,3]"
   ]
  },
  {
   "cell_type": "code",
   "execution_count": 29,
   "id": "5a578f02",
   "metadata": {},
   "outputs": [
    {
     "name": "stdout",
     "output_type": "stream",
     "text": [
      "[1, 2, 3]\n",
      "[1 2 3]\n"
     ]
    }
   ],
   "source": [
    "# create an array from a list\n",
    "a = np.array([1,2,3]) \n",
    "print(l) # [1, 2, 3]\n",
    "print(a) # [1 2 3]"
   ]
  },
  {
   "cell_type": "code",
   "execution_count": 30,
   "id": "a5e8ad93",
   "metadata": {},
   "outputs": [],
   "source": [
    "# adding new item\n",
    "l.append(4)"
   ]
  },
  {
   "cell_type": "code",
   "execution_count": 38,
   "id": "bcadbb61",
   "metadata": {},
   "outputs": [
    {
     "ename": "AttributeError",
     "evalue": "'numpy.ndarray' object has no attribute 'append'",
     "output_type": "error",
     "traceback": [
      "\u001b[0;31m---------------------------------------------------------------------------\u001b[0m",
      "\u001b[0;31mAttributeError\u001b[0m                            Traceback (most recent call last)",
      "\u001b[0;32m/var/folders/s_/g35dflcd3117zq9zl6_y4pl40000gn/T/ipykernel_2501/3146263250.py\u001b[0m in \u001b[0;36m<module>\u001b[0;34m\u001b[0m\n\u001b[1;32m      1\u001b[0m \u001b[0;31m# showing that this method is not possible\u001b[0m\u001b[0;34m\u001b[0m\u001b[0;34m\u001b[0m\u001b[0m\n\u001b[0;32m----> 2\u001b[0;31m \u001b[0ma\u001b[0m\u001b[0;34m.\u001b[0m\u001b[0mappend\u001b[0m\u001b[0;34m(\u001b[0m\u001b[0;36m4\u001b[0m\u001b[0;34m)\u001b[0m\u001b[0;34m\u001b[0m\u001b[0;34m\u001b[0m\u001b[0m\n\u001b[0m",
      "\u001b[0;31mAttributeError\u001b[0m: 'numpy.ndarray' object has no attribute 'append'"
     ]
    }
   ],
   "source": [
    "# showing that this method is not possible\n",
    "a.append(4)"
   ]
  },
  {
   "cell_type": "code",
   "execution_count": 33,
   "id": "81cc41df",
   "metadata": {},
   "outputs": [
    {
     "name": "stdout",
     "output_type": "stream",
     "text": [
      "[1, 2, 3, 4, 5]\n"
     ]
    }
   ],
   "source": [
    "# there are ways to add items, but this essentially creates new arrays\n",
    "l2 = l + [5]\n",
    "print(l2) # [1, 2, 3, 4, 5]"
   ]
  },
  {
   "cell_type": "code",
   "execution_count": 34,
   "id": "97cd142e",
   "metadata": {},
   "outputs": [
    {
     "name": "stdout",
     "output_type": "stream",
     "text": [
      "[5 6 7]\n"
     ]
    }
   ],
   "source": [
    "# this is called broadcasting, adds 4 to each element\n",
    "a2 = a + np.array([4])\n",
    "print(a2) "
   ]
  },
  {
   "cell_type": "code",
   "execution_count": 35,
   "id": "c9098fe6",
   "metadata": {},
   "outputs": [
    {
     "name": "stdout",
     "output_type": "stream",
     "text": [
      "[5 6 7]\n"
     ]
    }
   ],
   "source": [
    "# vector addidion (this is technically correct compared to broadcasting)\n",
    "a3 = a + np.array([4,4,4])\n",
    "print(a3)"
   ]
  },
  {
   "cell_type": "code",
   "execution_count": 37,
   "id": "edb039ac",
   "metadata": {},
   "outputs": [
    {
     "ename": "ValueError",
     "evalue": "operands could not be broadcast together with shapes (3,) (2,) ",
     "output_type": "error",
     "traceback": [
      "\u001b[0;31m---------------------------------------------------------------------------\u001b[0m",
      "\u001b[0;31mValueError\u001b[0m                                Traceback (most recent call last)",
      "\u001b[0;32m/var/folders/s_/g35dflcd3117zq9zl6_y4pl40000gn/T/ipykernel_2501/275110462.py\u001b[0m in \u001b[0;36m<module>\u001b[0;34m\u001b[0m\n\u001b[1;32m      1\u001b[0m \u001b[0;31m# showing that this method is not possible\u001b[0m\u001b[0;34m\u001b[0m\u001b[0;34m\u001b[0m\u001b[0m\n\u001b[0;32m----> 2\u001b[0;31m \u001b[0ma3\u001b[0m \u001b[0;34m=\u001b[0m \u001b[0ma\u001b[0m \u001b[0;34m+\u001b[0m \u001b[0mnp\u001b[0m\u001b[0;34m.\u001b[0m\u001b[0marray\u001b[0m\u001b[0;34m(\u001b[0m\u001b[0;34m[\u001b[0m\u001b[0;36m4\u001b[0m\u001b[0;34m,\u001b[0m\u001b[0;36m5\u001b[0m\u001b[0;34m]\u001b[0m\u001b[0;34m)\u001b[0m\u001b[0;34m\u001b[0m\u001b[0;34m\u001b[0m\u001b[0m\n\u001b[0m",
      "\u001b[0;31mValueError\u001b[0m: operands could not be broadcast together with shapes (3,) (2,) "
     ]
    }
   ],
   "source": [
    "# showing that this method is not possible\n",
    "a3 = a + np.array([4,5])"
   ]
  },
  {
   "cell_type": "code",
   "execution_count": 39,
   "id": "df46cc0c",
   "metadata": {},
   "outputs": [
    {
     "name": "stdout",
     "output_type": "stream",
     "text": [
      "[1, 2, 3, 4, 1, 2, 3, 4]\n"
     ]
    }
   ],
   "source": [
    "# multiplication\n",
    "l2 = 2 * l # list l repeated 2 times, same a l+l\n",
    "print(l2)"
   ]
  },
  {
   "cell_type": "code",
   "execution_count": 41,
   "id": "d5ad5f56",
   "metadata": {},
   "outputs": [
    {
     "name": "stdout",
     "output_type": "stream",
     "text": [
      "[2 4 6]\n"
     ]
    }
   ],
   "source": [
    "# multiplication for each element\n",
    "a3 = 2 * a\n",
    "\n",
    "print(a3)"
   ]
  },
  {
   "cell_type": "code",
   "execution_count": 42,
   "id": "7290df5b",
   "metadata": {},
   "outputs": [
    {
     "name": "stdout",
     "output_type": "stream",
     "text": [
      "[1, 4, 9, 16]\n"
     ]
    }
   ],
   "source": [
    "# modify each item in the list\n",
    "l2 = []\n",
    "for i in l:\n",
    " l2.append(i**2)\n",
    "print(l2) # [1, 4, 9, 16]"
   ]
  },
  {
   "cell_type": "code",
   "execution_count": 43,
   "id": "b7c0f4ac",
   "metadata": {},
   "outputs": [
    {
     "name": "stdout",
     "output_type": "stream",
     "text": [
      "[1, 4, 9, 16]\n"
     ]
    }
   ],
   "source": [
    "# or list comprehension\n",
    "l2 = [i**2 for i in l]\n",
    "print(l2) # [1, 4, 9, 16]"
   ]
  },
  {
   "cell_type": "code",
   "execution_count": 45,
   "id": "d7845c66",
   "metadata": {},
   "outputs": [
    {
     "name": "stdout",
     "output_type": "stream",
     "text": [
      "[1 4 9]\n"
     ]
    }
   ],
   "source": [
    "a2 = a**2 # -> squares each element!\n",
    "\n",
    "print(a2)"
   ]
  },
  {
   "cell_type": "code",
   "execution_count": 46,
   "id": "bbdb2fae",
   "metadata": {},
   "outputs": [
    {
     "name": "stdout",
     "output_type": "stream",
     "text": [
      "[1.         1.41421356 1.73205081]\n"
     ]
    }
   ],
   "source": [
    "# Note: function applied to array usually operates element wise\n",
    "a2 = np.sqrt(a) # np.exp(a), np.tanh(a)\n",
    "print(a2)  "
   ]
  },
  {
   "cell_type": "code",
   "execution_count": 47,
   "id": "bb69d554",
   "metadata": {},
   "outputs": [
    {
     "name": "stdout",
     "output_type": "stream",
     "text": [
      "[0.         0.69314718 1.09861229]\n"
     ]
    }
   ],
   "source": [
    "a2 = np.log(a)\n",
    "print(a2)"
   ]
  },
  {
   "cell_type": "markdown",
   "id": "c521fcda",
   "metadata": {},
   "source": [
    "## Dot Product"
   ]
  },
  {
   "cell_type": "code",
   "execution_count": 48,
   "id": "b76689c4",
   "metadata": {},
   "outputs": [],
   "source": [
    "a = np.array([1,2])\n",
    "b = np.array([3,4])"
   ]
  },
  {
   "cell_type": "code",
   "execution_count": 49,
   "id": "d430a8cb",
   "metadata": {},
   "outputs": [],
   "source": [
    "# sum of the products of the corresponding entries\n",
    "# multiply each corresponding elements and then take the sum"
   ]
  },
  {
   "cell_type": "code",
   "execution_count": 50,
   "id": "ce6748b6",
   "metadata": {},
   "outputs": [
    {
     "name": "stdout",
     "output_type": "stream",
     "text": [
      "11\n"
     ]
    }
   ],
   "source": [
    "# cumbersome way for lists\n",
    "dot = 0\n",
    "for i in range(len(a)):\n",
    " dot += a[i] * b[i]\n",
    "print(dot)"
   ]
  },
  {
   "cell_type": "code",
   "execution_count": 51,
   "id": "2ce8f27e",
   "metadata": {},
   "outputs": [
    {
     "name": "stdout",
     "output_type": "stream",
     "text": [
      "11\n"
     ]
    }
   ],
   "source": [
    "# easy with numpy \n",
    "dot = np.dot(a,b)\n",
    "print(dot) "
   ]
  },
  {
   "cell_type": "code",
   "execution_count": 52,
   "id": "db3e74ba",
   "metadata": {},
   "outputs": [
    {
     "name": "stdout",
     "output_type": "stream",
     "text": [
      "[3 8]\n",
      "11\n"
     ]
    }
   ],
   "source": [
    "# step by step manually\n",
    "c = a * b\n",
    "print(c) \n",
    "d = np.sum(c)\n",
    "print(d) # 11"
   ]
  },
  {
   "cell_type": "code",
   "execution_count": 53,
   "id": "6ae3b4e0",
   "metadata": {},
   "outputs": [
    {
     "name": "stdout",
     "output_type": "stream",
     "text": [
      "11\n",
      "11\n"
     ]
    }
   ],
   "source": [
    "# most of these functions are also instance methods\n",
    "dot = a.dot(b)\n",
    "print(dot) \n",
    "dot = (a*b).sum()\n",
    "print(dot) "
   ]
  },
  {
   "cell_type": "code",
   "execution_count": 54,
   "id": "ad185c53",
   "metadata": {},
   "outputs": [
    {
     "name": "stdout",
     "output_type": "stream",
     "text": [
      "11\n"
     ]
    }
   ],
   "source": [
    "# in newer versions\n",
    "dot = a @ b\n",
    "print(dot)"
   ]
  },
  {
   "cell_type": "markdown",
   "id": "c5002eb4",
   "metadata": {},
   "source": [
    "## Speed Test Array vs. List"
   ]
  },
  {
   "cell_type": "code",
   "execution_count": 62,
   "id": "4f1990fa",
   "metadata": {},
   "outputs": [
    {
     "name": "stdout",
     "output_type": "stream",
     "text": [
      "Time with lists: 0.15900009100005263\n",
      "Time with array: 0.0015432519999194483\n",
      "Ratio 103.02924668709441\n"
     ]
    }
   ],
   "source": [
    "from timeit import default_timer as timer\n",
    "\n",
    "a = np.random.randn(1000)\n",
    "b = np.random.randn(1000)\n",
    "\n",
    "A = list(a)\n",
    "B = list(b)\n",
    "\n",
    "T = 1000\n",
    "\n",
    "def dot1():\n",
    "    dot = 0\n",
    "    for i in range(len(A)):\n",
    "        dot += A[i]*B[i]\n",
    "    return dot\n",
    "\n",
    "def dot2():\n",
    "    return np.dot(a,b)\n",
    "\n",
    "start = timer()\n",
    "for t in range(T):\n",
    "    dot1()\n",
    "end = timer()\n",
    "t1 = end-start\n",
    "\n",
    "start = timer()\n",
    "for t in range(T):\n",
    "    dot2()\n",
    "end = timer()\n",
    "t2 = end-start\n",
    "\n",
    "print('Time with lists:', t1) \n",
    "print('Time with array:', t2)\n",
    "print('Ratio', t1/t2) "
   ]
  },
  {
   "cell_type": "markdown",
   "id": "e54ce74d",
   "metadata": {},
   "source": [
    "## Multidimensional (nd) Arrays"
   ]
  },
  {
   "cell_type": "code",
   "execution_count": 63,
   "id": "dd1abd66",
   "metadata": {},
   "outputs": [
    {
     "name": "stdout",
     "output_type": "stream",
     "text": [
      "[[1 2]\n",
      " [3 4]]\n"
     ]
    }
   ],
   "source": [
    "# (matrix class exists but not recommended to use)\n",
    "a = np.array([[1,2], [3,4]])\n",
    "print(a)"
   ]
  },
  {
   "cell_type": "code",
   "execution_count": 64,
   "id": "ad444c19",
   "metadata": {},
   "outputs": [
    {
     "name": "stdout",
     "output_type": "stream",
     "text": [
      "(2, 2)\n"
     ]
    }
   ],
   "source": [
    "print(a.shape)"
   ]
  },
  {
   "cell_type": "code",
   "execution_count": 66,
   "id": "aa39ef39",
   "metadata": {},
   "outputs": [
    {
     "name": "stdout",
     "output_type": "stream",
     "text": [
      "[1 2]\n",
      "1\n"
     ]
    }
   ],
   "source": [
    "# Access elements\n",
    "# row first, then columns\n",
    "print(a[0]) \n",
    "print(a[0][0])"
   ]
  },
  {
   "cell_type": "code",
   "execution_count": 67,
   "id": "e2e3eebd",
   "metadata": {},
   "outputs": [
    {
     "name": "stdout",
     "output_type": "stream",
     "text": [
      "[1 3]\n",
      "[1 2]\n"
     ]
    }
   ],
   "source": [
    "# slicing\n",
    "print(a[:,0]) # all rows in col 0: [1 3]\n",
    "print(a[0,:]) # all columns in row 0: [1 2]"
   ]
  },
  {
   "cell_type": "code",
   "execution_count": 68,
   "id": "5c9b30ef",
   "metadata": {},
   "outputs": [
    {
     "data": {
      "text/plain": [
       "array([[1, 3],\n",
       "       [2, 4]])"
      ]
     },
     "execution_count": 68,
     "metadata": {},
     "output_type": "execute_result"
    }
   ],
   "source": [
    "# transpose\n",
    "a.T"
   ]
  },
  {
   "cell_type": "code",
   "execution_count": 69,
   "id": "f7249df4",
   "metadata": {},
   "outputs": [],
   "source": [
    "# matrix multiplication\n",
    "b = np.array([[3, 4], [5,6]])\n",
    "c = a.dot(b)"
   ]
  },
  {
   "cell_type": "code",
   "execution_count": 70,
   "id": "d0e11ffc",
   "metadata": {},
   "outputs": [],
   "source": [
    "# elementwise multiplication\n",
    "d = a * b "
   ]
  },
  {
   "cell_type": "code",
   "execution_count": 71,
   "id": "e18e725f",
   "metadata": {},
   "outputs": [
    {
     "ename": "ValueError",
     "evalue": "shapes (2,2) and (3,2) not aligned: 2 (dim 1) != 3 (dim 0)",
     "output_type": "error",
     "traceback": [
      "\u001b[0;31m---------------------------------------------------------------------------\u001b[0m",
      "\u001b[0;31mValueError\u001b[0m                                Traceback (most recent call last)",
      "\u001b[0;32m/var/folders/s_/g35dflcd3117zq9zl6_y4pl40000gn/T/ipykernel_2501/1629285942.py\u001b[0m in \u001b[0;36m<module>\u001b[0;34m\u001b[0m\n\u001b[1;32m      1\u001b[0m \u001b[0;31m# inner dimensions must match!\u001b[0m\u001b[0;34m\u001b[0m\u001b[0;34m\u001b[0m\u001b[0m\n\u001b[1;32m      2\u001b[0m \u001b[0mb\u001b[0m \u001b[0;34m=\u001b[0m \u001b[0mnp\u001b[0m\u001b[0;34m.\u001b[0m\u001b[0marray\u001b[0m\u001b[0;34m(\u001b[0m\u001b[0;34m[\u001b[0m\u001b[0;34m[\u001b[0m\u001b[0;36m1\u001b[0m\u001b[0;34m,\u001b[0m\u001b[0;36m2\u001b[0m\u001b[0;34m,\u001b[0m\u001b[0;36m3\u001b[0m\u001b[0;34m]\u001b[0m\u001b[0;34m,\u001b[0m \u001b[0;34m[\u001b[0m\u001b[0;36m4\u001b[0m\u001b[0;34m,\u001b[0m\u001b[0;36m5\u001b[0m\u001b[0;34m,\u001b[0m\u001b[0;36m6\u001b[0m\u001b[0;34m]\u001b[0m\u001b[0;34m]\u001b[0m\u001b[0;34m)\u001b[0m\u001b[0;34m\u001b[0m\u001b[0;34m\u001b[0m\u001b[0m\n\u001b[0;32m----> 3\u001b[0;31m \u001b[0mc\u001b[0m \u001b[0;34m=\u001b[0m \u001b[0ma\u001b[0m\u001b[0;34m.\u001b[0m\u001b[0mdot\u001b[0m\u001b[0;34m(\u001b[0m\u001b[0mb\u001b[0m\u001b[0;34m.\u001b[0m\u001b[0mT\u001b[0m\u001b[0;34m)\u001b[0m\u001b[0;34m\u001b[0m\u001b[0;34m\u001b[0m\u001b[0m\n\u001b[0m",
      "\u001b[0;31mValueError\u001b[0m: shapes (2,2) and (3,2) not aligned: 2 (dim 1) != 3 (dim 0)"
     ]
    }
   ],
   "source": [
    "# inner dimensions must match!\n",
    "b = np.array([[1,2,3], [4,5,6]])\n",
    "c = a.dot(b.T)"
   ]
  },
  {
   "cell_type": "code",
   "execution_count": 72,
   "id": "9cce1c5d",
   "metadata": {},
   "outputs": [],
   "source": [
    "# determinant\n",
    "c = np.linalg.det(a)"
   ]
  },
  {
   "cell_type": "code",
   "execution_count": 73,
   "id": "69a6ef59",
   "metadata": {},
   "outputs": [],
   "source": [
    "# inverse\n",
    "c = np.linalg.inv(a)"
   ]
  },
  {
   "cell_type": "code",
   "execution_count": 74,
   "id": "df3c62f1",
   "metadata": {},
   "outputs": [
    {
     "name": "stdout",
     "output_type": "stream",
     "text": [
      "[1 4]\n"
     ]
    }
   ],
   "source": [
    "# diag\n",
    "c = np.diag(a)\n",
    "print(c) # [1 4]"
   ]
  },
  {
   "cell_type": "code",
   "execution_count": 75,
   "id": "e73d7d48",
   "metadata": {},
   "outputs": [
    {
     "name": "stdout",
     "output_type": "stream",
     "text": [
      "[[1 0]\n",
      " [0 4]]\n"
     ]
    }
   ],
   "source": [
    "# diag on a vector returns diagonal matrix (overloaded function)\n",
    "c = np.diag([1,4])\n",
    "print(c)"
   ]
  },
  {
   "cell_type": "markdown",
   "id": "5a879e6c",
   "metadata": {},
   "source": [
    "## Indexing, Slicing, and Boolean Indexing"
   ]
  },
  {
   "cell_type": "code",
   "execution_count": 77,
   "id": "e39934be",
   "metadata": {},
   "outputs": [
    {
     "name": "stdout",
     "output_type": "stream",
     "text": [
      "[[ 1  2  3  4]\n",
      " [ 5  6  7  8]\n",
      " [ 9 10 11 12]]\n"
     ]
    }
   ],
   "source": [
    "# Slicing: Similar to Python lists, numpy arrays can be sliced.\n",
    "# Since arrays may be multidimensional, you must specify a slice for each\n",
    "# dimension of the array:\n",
    "a = np.array([[1,2,3,4], [5,6,7,8], [9,10,11,12]])\n",
    "print(a)"
   ]
  },
  {
   "cell_type": "code",
   "execution_count": 78,
   "id": "cc3db6ed",
   "metadata": {},
   "outputs": [
    {
     "name": "stdout",
     "output_type": "stream",
     "text": [
      "2\n"
     ]
    }
   ],
   "source": [
    "# Integer array indexing\n",
    "b = a[0,1]\n",
    "print(b) "
   ]
  },
  {
   "cell_type": "code",
   "execution_count": 79,
   "id": "ef3793d6",
   "metadata": {},
   "outputs": [
    {
     "name": "stdout",
     "output_type": "stream",
     "text": [
      "[1 2 3 4]\n"
     ]
    }
   ],
   "source": [
    "# Slicing\n",
    "row0 = a[0,:]\n",
    "print(row0)"
   ]
  },
  {
   "cell_type": "code",
   "execution_count": 80,
   "id": "dfea4421",
   "metadata": {},
   "outputs": [
    {
     "name": "stdout",
     "output_type": "stream",
     "text": [
      "[1 5 9]\n"
     ]
    }
   ],
   "source": [
    "col0 = a[:, 0]\n",
    "print(col0) "
   ]
  },
  {
   "cell_type": "code",
   "execution_count": 81,
   "id": "6e189b6e",
   "metadata": {},
   "outputs": [
    {
     "name": "stdout",
     "output_type": "stream",
     "text": [
      "[[2 3]\n",
      " [6 7]]\n"
     ]
    }
   ],
   "source": [
    "slice_a = a[0:2,1:3]\n",
    "print(slice_a)"
   ]
  },
  {
   "cell_type": "code",
   "execution_count": 82,
   "id": "423856c6",
   "metadata": {},
   "outputs": [
    {
     "name": "stdout",
     "output_type": "stream",
     "text": [
      "12\n"
     ]
    }
   ],
   "source": [
    "# indexing starting from the end: -1, -2 etc...\n",
    "last = a[-1,-1]\n",
    "print(last)"
   ]
  },
  {
   "cell_type": "code",
   "execution_count": 84,
   "id": "e3d58dc1",
   "metadata": {},
   "outputs": [
    {
     "name": "stdout",
     "output_type": "stream",
     "text": [
      "[[1 2]\n",
      " [3 4]\n",
      " [5 6]]\n"
     ]
    }
   ],
   "source": [
    "# Boolean Indexing\n",
    "a = np.array([[1,2], [3, 4], [5, 6]])\n",
    "print(a)"
   ]
  },
  {
   "cell_type": "code",
   "execution_count": 85,
   "id": "a9991e84",
   "metadata": {},
   "outputs": [
    {
     "name": "stdout",
     "output_type": "stream",
     "text": [
      "[[False False]\n",
      " [ True  True]\n",
      " [ True  True]]\n"
     ]
    }
   ],
   "source": [
    "# same shape with True or False for the condition\n",
    "bool_idx = a > 2\n",
    "print(bool_idx)"
   ]
  },
  {
   "cell_type": "code",
   "execution_count": 86,
   "id": "1e2edfae",
   "metadata": {},
   "outputs": [
    {
     "name": "stdout",
     "output_type": "stream",
     "text": [
      "[3 4 5 6]\n"
     ]
    }
   ],
   "source": [
    "# note: this will be a rank 1 array!\n",
    "print(a[bool_idx]) # [3 4 5 6]"
   ]
  },
  {
   "cell_type": "code",
   "execution_count": 87,
   "id": "f28b39db",
   "metadata": {},
   "outputs": [
    {
     "name": "stdout",
     "output_type": "stream",
     "text": [
      "[3 4 5 6]\n"
     ]
    }
   ],
   "source": [
    "# We can do all of the above in a single concise statement:\n",
    "print(a[a > 2])"
   ]
  },
  {
   "cell_type": "code",
   "execution_count": 88,
   "id": "2863adfe",
   "metadata": {},
   "outputs": [
    {
     "name": "stdout",
     "output_type": "stream",
     "text": [
      "[[-1 -1]\n",
      " [ 3  4]\n",
      " [ 5  6]]\n"
     ]
    }
   ],
   "source": [
    "# np.where(): same size with modified values\n",
    "b = np.where(a>2, a, -1)\n",
    "print(b)"
   ]
  },
  {
   "cell_type": "code",
   "execution_count": 89,
   "id": "d4c39861",
   "metadata": {},
   "outputs": [],
   "source": [
    "# fancy indexing: access multiple indices at once\n",
    "a = np.array([10,19,30,41,50,61])"
   ]
  },
  {
   "cell_type": "code",
   "execution_count": 90,
   "id": "997295a5",
   "metadata": {},
   "outputs": [
    {
     "name": "stdout",
     "output_type": "stream",
     "text": [
      "[19 41 61]\n"
     ]
    }
   ],
   "source": [
    "b = a[[1,3,5]]\n",
    "print(b)"
   ]
  },
  {
   "cell_type": "code",
   "execution_count": 91,
   "id": "00ff6265",
   "metadata": {},
   "outputs": [
    {
     "name": "stdout",
     "output_type": "stream",
     "text": [
      "[0 2 4]\n"
     ]
    }
   ],
   "source": [
    "even = np.argwhere(a%2==0).flatten()\n",
    "print(even)"
   ]
  },
  {
   "cell_type": "code",
   "execution_count": 92,
   "id": "3f8607f4",
   "metadata": {},
   "outputs": [
    {
     "name": "stdout",
     "output_type": "stream",
     "text": [
      "[10 30 50]\n"
     ]
    }
   ],
   "source": [
    "a_even = a[even]\n",
    "print(a_even)"
   ]
  },
  {
   "cell_type": "markdown",
   "id": "709968a8",
   "metadata": {},
   "source": [
    "## Reshaping"
   ]
  },
  {
   "cell_type": "code",
   "execution_count": 93,
   "id": "c0686cb3",
   "metadata": {},
   "outputs": [
    {
     "name": "stdout",
     "output_type": "stream",
     "text": [
      "[1 2 3 4 5 6]\n"
     ]
    }
   ],
   "source": [
    "a = np.arange(1, 7)\n",
    "print(a)"
   ]
  },
  {
   "cell_type": "code",
   "execution_count": 94,
   "id": "6c70c6bc",
   "metadata": {},
   "outputs": [
    {
     "name": "stdout",
     "output_type": "stream",
     "text": [
      "[[1 2 3]\n",
      " [4 5 6]]\n"
     ]
    }
   ],
   "source": [
    "b = a.reshape((2, 3)) # error if shape cannot be used\n",
    "print(b)"
   ]
  },
  {
   "cell_type": "code",
   "execution_count": 95,
   "id": "a55a92d7",
   "metadata": {},
   "outputs": [
    {
     "name": "stdout",
     "output_type": "stream",
     "text": [
      "[[1 2]\n",
      " [3 4]\n",
      " [5 6]]\n"
     ]
    }
   ],
   "source": [
    "c = a.reshape((3, 2)) # 3 rows, 2 columns\n",
    "print(c)"
   ]
  },
  {
   "cell_type": "code",
   "execution_count": 96,
   "id": "b227027b",
   "metadata": {},
   "outputs": [
    {
     "name": "stdout",
     "output_type": "stream",
     "text": [
      "(6,)\n"
     ]
    }
   ],
   "source": [
    "# newaxis is used to create a new axis in the data\n",
    "# needed when model require the data to be shaped in a certain manner\n",
    "print(a.shape) "
   ]
  },
  {
   "cell_type": "code",
   "execution_count": 97,
   "id": "240e7afb",
   "metadata": {},
   "outputs": [
    {
     "name": "stdout",
     "output_type": "stream",
     "text": [
      "[[1 2 3 4 5 6]]\n",
      "(1, 6)\n"
     ]
    }
   ],
   "source": [
    "d = a[np.newaxis, :]\n",
    "print(d) \n",
    "print(d.shape)"
   ]
  },
  {
   "cell_type": "code",
   "execution_count": 98,
   "id": "6715de7e",
   "metadata": {},
   "outputs": [
    {
     "name": "stdout",
     "output_type": "stream",
     "text": [
      "[[1]\n",
      " [2]\n",
      " [3]\n",
      " [4]\n",
      " [5]\n",
      " [6]]\n"
     ]
    }
   ],
   "source": [
    "e = a[:, np.newaxis]\n",
    "print(e)"
   ]
  },
  {
   "cell_type": "code",
   "execution_count": 99,
   "id": "61ef12f8",
   "metadata": {},
   "outputs": [
    {
     "name": "stdout",
     "output_type": "stream",
     "text": [
      "(6, 1)\n"
     ]
    }
   ],
   "source": [
    "print(e.shape)"
   ]
  },
  {
   "cell_type": "markdown",
   "id": "eeb02f1d",
   "metadata": {},
   "source": [
    "## Concatenation"
   ]
  },
  {
   "cell_type": "code",
   "execution_count": 100,
   "id": "dfa6cc29",
   "metadata": {},
   "outputs": [],
   "source": [
    "a = np.array([[1, 2], [3, 4]])\n",
    "b = np.array([[5, 6]])"
   ]
  },
  {
   "cell_type": "code",
   "execution_count": 101,
   "id": "59f345b9",
   "metadata": {},
   "outputs": [
    {
     "name": "stdout",
     "output_type": "stream",
     "text": [
      "[1 2 3 4 5 6]\n"
     ]
    }
   ],
   "source": [
    "# combine into 1d\n",
    "c = np.concatenate((a, b), axis=None)\n",
    "print(c) "
   ]
  },
  {
   "cell_type": "code",
   "execution_count": 102,
   "id": "a4170bd4",
   "metadata": {},
   "outputs": [
    {
     "name": "stdout",
     "output_type": "stream",
     "text": [
      "[[1 2]\n",
      " [3 4]\n",
      " [5 6]]\n"
     ]
    }
   ],
   "source": [
    "# add new row\n",
    "d = np.concatenate((a, b), axis=0)\n",
    "print(d)"
   ]
  },
  {
   "cell_type": "code",
   "execution_count": 103,
   "id": "c7f1cd97",
   "metadata": {},
   "outputs": [
    {
     "name": "stdout",
     "output_type": "stream",
     "text": [
      "[[1 2 5]\n",
      " [3 4 6]]\n"
     ]
    }
   ],
   "source": [
    "# add new column: note that we have to transpose b!\n",
    "e = np.concatenate((a, b.T), axis=1)\n",
    "print(e)"
   ]
  },
  {
   "cell_type": "code",
   "execution_count": 105,
   "id": "e7941aad",
   "metadata": {},
   "outputs": [
    {
     "name": "stdout",
     "output_type": "stream",
     "text": [
      "[1 2 3 4 5 6 7 8]\n"
     ]
    }
   ],
   "source": [
    "# hstack: Stack arrays in sequence horizontally (column wise). needs a tuple\n",
    "a = np.array([1,2,3,4])\n",
    "b = np.array([5,6,7,8])\n",
    "c = np.hstack((a,b))\n",
    "print(c) "
   ]
  },
  {
   "cell_type": "code",
   "execution_count": 106,
   "id": "45f16c69",
   "metadata": {},
   "outputs": [
    {
     "name": "stdout",
     "output_type": "stream",
     "text": [
      "[[1 2 5 6]\n",
      " [3 4 7 8]]\n"
     ]
    }
   ],
   "source": [
    "a = np.array([[1,2], [3,4]])\n",
    "b = np.array([[5,6], [7,8]])\n",
    "c = np.hstack((a,b))\n",
    "print(c)"
   ]
  },
  {
   "cell_type": "code",
   "execution_count": 107,
   "id": "1ba70f27",
   "metadata": {},
   "outputs": [
    {
     "name": "stdout",
     "output_type": "stream",
     "text": [
      "[[1 2 3 4]\n",
      " [5 6 7 8]]\n"
     ]
    }
   ],
   "source": [
    "# vstack: Stack arrays in sequence vertically (row wise). needs a tuple\n",
    "a = np.array([1,2,3,4])\n",
    "b = np.array([5,6,7,8])\n",
    "c = np.vstack((a,b))\n",
    "print(c)"
   ]
  },
  {
   "cell_type": "code",
   "execution_count": 108,
   "id": "b8712011",
   "metadata": {},
   "outputs": [
    {
     "name": "stdout",
     "output_type": "stream",
     "text": [
      "[[1 2]\n",
      " [3 4]\n",
      " [5 6]\n",
      " [7 8]]\n"
     ]
    }
   ],
   "source": [
    "a = np.array([[1,2], [3,4]])\n",
    "b = np.array([[5,6], [7,8]])\n",
    "c = np.vstack((a,b))\n",
    "print(c)"
   ]
  },
  {
   "cell_type": "markdown",
   "id": "d2cd602e",
   "metadata": {},
   "source": [
    "## Broadcasting"
   ]
  },
  {
   "cell_type": "markdown",
   "id": "93375741",
   "metadata": {},
   "source": [
    "Broadcasting is a powerful mechanism that allows numpy to work with arrays of different shapes\n",
    "when performing arithmetic operations. Frequently we have a smaller array and a larger array,\n",
    "and we want to use the smaller array multiple times to perform some operation on the larger\n",
    "array."
   ]
  },
  {
   "cell_type": "code",
   "execution_count": 109,
   "id": "0d9c5ca5",
   "metadata": {},
   "outputs": [
    {
     "name": "stdout",
     "output_type": "stream",
     "text": [
      "[[ 2  2  4]\n",
      " [ 5  5  7]\n",
      " [ 8  8 10]\n",
      " [11 11 13]]\n"
     ]
    }
   ],
   "source": [
    "x = np.array([[1,2,3], [4,5,6], [7,8,9], [10, 11, 12]])\n",
    "y = np.array([1, 0, 1])\n",
    "z = x + y # Add v to each row of x using broadcasting\n",
    "print(z)"
   ]
  },
  {
   "cell_type": "markdown",
   "id": "b0048a95",
   "metadata": {},
   "source": [
    "## Functions and Axis"
   ]
  },
  {
   "cell_type": "code",
   "execution_count": 110,
   "id": "e0d418a1",
   "metadata": {},
   "outputs": [
    {
     "name": "stdout",
     "output_type": "stream",
     "text": [
      "210\n",
      "210\n"
     ]
    }
   ],
   "source": [
    "a = np.array([[7,8,9,10,11,12,13], [17,18,19,20,21,22,23]])\n",
    "print(a.sum())\n",
    "print(a.sum(axis=None))"
   ]
  },
  {
   "cell_type": "code",
   "execution_count": 111,
   "id": "f6af4fb7",
   "metadata": {},
   "outputs": [
    {
     "name": "stdout",
     "output_type": "stream",
     "text": [
      "[24 26 28 30 32 34 36]\n"
     ]
    }
   ],
   "source": [
    "print(a.sum(axis=0)) # along the rows -> 1 sum entry for each column"
   ]
  },
  {
   "cell_type": "code",
   "execution_count": 112,
   "id": "75e3005d",
   "metadata": {},
   "outputs": [
    {
     "name": "stdout",
     "output_type": "stream",
     "text": [
      "[ 70 140]\n"
     ]
    }
   ],
   "source": [
    "print(a.sum(axis=1)) # along the columns -> 1 sum entry for each row"
   ]
  },
  {
   "cell_type": "code",
   "execution_count": 113,
   "id": "685d2136",
   "metadata": {},
   "outputs": [
    {
     "name": "stdout",
     "output_type": "stream",
     "text": [
      "15.0\n",
      "15.0\n"
     ]
    }
   ],
   "source": [
    "print(a.mean())\n",
    "print(a.mean(axis = None))"
   ]
  },
  {
   "cell_type": "code",
   "execution_count": 114,
   "id": "1ebc6f99",
   "metadata": {},
   "outputs": [
    {
     "name": "stdout",
     "output_type": "stream",
     "text": [
      "[12. 13. 14. 15. 16. 17. 18.]\n"
     ]
    }
   ],
   "source": [
    "# 1 mean entry for each column\n",
    "print(a.mean(axis = 0))"
   ]
  },
  {
   "cell_type": "code",
   "execution_count": 115,
   "id": "d9591cdf",
   "metadata": {},
   "outputs": [
    {
     "name": "stdout",
     "output_type": "stream",
     "text": [
      "[10. 20.]\n"
     ]
    }
   ],
   "source": [
    "# 1 mean entry for each row\n",
    "print(a.mean(axis = 1))"
   ]
  },
  {
   "cell_type": "code",
   "execution_count": 116,
   "id": "78a87bf2",
   "metadata": {},
   "outputs": [],
   "source": [
    "# some more: std, var, min, max"
   ]
  },
  {
   "cell_type": "markdown",
   "id": "f0661db5",
   "metadata": {},
   "source": [
    "## Datatypes"
   ]
  },
  {
   "cell_type": "markdown",
   "id": "194c2b08",
   "metadata": {},
   "source": [
    "[More information here](https://numpy.org/devdocs/user/basics.types.html)"
   ]
  },
  {
   "cell_type": "code",
   "execution_count": 118,
   "id": "68596ed5",
   "metadata": {},
   "outputs": [
    {
     "name": "stdout",
     "output_type": "stream",
     "text": [
      "int64\n"
     ]
    }
   ],
   "source": [
    "# Let numpy choose the datatype\n",
    "x = np.array([1, 2])\n",
    "print(x.dtype) "
   ]
  },
  {
   "cell_type": "code",
   "execution_count": 119,
   "id": "e656279c",
   "metadata": {},
   "outputs": [
    {
     "name": "stdout",
     "output_type": "stream",
     "text": [
      "float64\n"
     ]
    }
   ],
   "source": [
    "# Let numpy choose the datatype\n",
    "x = np.array([1.0, 2.0])\n",
    "print(x.dtype) #"
   ]
  },
  {
   "cell_type": "code",
   "execution_count": 120,
   "id": "56e66c97",
   "metadata": {},
   "outputs": [
    {
     "name": "stdout",
     "output_type": "stream",
     "text": [
      "int64\n"
     ]
    }
   ],
   "source": [
    "# Force a particular datatype, how many bits (how precise)\n",
    "x = np.array([1, 2], dtype=np.int64) # 8 bytes\n",
    "print(x.dtype)"
   ]
  },
  {
   "cell_type": "code",
   "execution_count": 121,
   "id": "89b1fe23",
   "metadata": {},
   "outputs": [
    {
     "name": "stdout",
     "output_type": "stream",
     "text": [
      "float32\n"
     ]
    }
   ],
   "source": [
    "x = np.array([1, 2], dtype=np.float32) # 4 bytes\n",
    "print(x.dtype) "
   ]
  },
  {
   "cell_type": "markdown",
   "id": "4d48d363",
   "metadata": {},
   "source": [
    "## Copying"
   ]
  },
  {
   "cell_type": "code",
   "execution_count": 122,
   "id": "7149b6f8",
   "metadata": {},
   "outputs": [
    {
     "name": "stdout",
     "output_type": "stream",
     "text": [
      "[42  2  3]\n"
     ]
    }
   ],
   "source": [
    "a = np.array([1,2,3])\n",
    "b = a # only copies reference!\n",
    "b[0] = 42\n",
    "print(a)"
   ]
  },
  {
   "cell_type": "code",
   "execution_count": 123,
   "id": "3ea0b078",
   "metadata": {},
   "outputs": [
    {
     "name": "stdout",
     "output_type": "stream",
     "text": [
      "[1 2 3]\n"
     ]
    }
   ],
   "source": [
    "a = np.array([1,2,3])\n",
    "b = a.copy() # actual copy!\n",
    "b[0] = 42\n",
    "print(a)"
   ]
  },
  {
   "cell_type": "markdown",
   "id": "db0cab62",
   "metadata": {},
   "source": [
    "## Generating Arrays"
   ]
  },
  {
   "cell_type": "code",
   "execution_count": 124,
   "id": "6adca58f",
   "metadata": {},
   "outputs": [],
   "source": [
    "# zeros\n",
    "a = np.zeros((2,3)) # size as tuple\n",
    "\n",
    "# [[0. 0. 0.]\n",
    "# [0. 0. 0.]]"
   ]
  },
  {
   "cell_type": "code",
   "execution_count": 125,
   "id": "3ff43d79",
   "metadata": {},
   "outputs": [],
   "source": [
    "# ones\n",
    "b = np.ones((2,3))\n",
    "# [[1. 1. 1.]\n",
    "# [1. 1. 1.]]"
   ]
  },
  {
   "cell_type": "code",
   "execution_count": 126,
   "id": "2ec9547e",
   "metadata": {},
   "outputs": [],
   "source": [
    "# specific value\n",
    "c = np.full((3,3),5.0)\n",
    "# [[5. 5. 5.]\n",
    "# [5. 5. 5.]\n",
    "# [5. 5. 5.]]"
   ]
  },
  {
   "cell_type": "code",
   "execution_count": 127,
   "id": "2f31e609",
   "metadata": {},
   "outputs": [],
   "source": [
    "# identity\n",
    "d = np.eye(3) #3x3\n",
    "# [[1. 0. 0.]\n",
    "# [0. 1. 0.]\n",
    "# [0. 0. 1.]]"
   ]
  },
  {
   "cell_type": "code",
   "execution_count": 128,
   "id": "47b722f4",
   "metadata": {},
   "outputs": [],
   "source": [
    "# arange\n",
    "e = np.arange(10)\n",
    "# [0 1 2 3 4 5 6 7 8 9]"
   ]
  },
  {
   "cell_type": "code",
   "execution_count": 129,
   "id": "422ef4d2",
   "metadata": {},
   "outputs": [],
   "source": [
    "# linspace\n",
    "f = np.linspace(0, 10, 5)\n",
    "# [ 0. 2.5 5. 7.5 10. ]"
   ]
  },
  {
   "cell_type": "markdown",
   "id": "7aec42ad",
   "metadata": {},
   "source": [
    "## Random Numbers"
   ]
  },
  {
   "cell_type": "code",
   "execution_count": 131,
   "id": "32a9334a",
   "metadata": {},
   "outputs": [],
   "source": [
    "a = np.random.random((3,2)) # uniform 0-1 distribution\n",
    "\n",
    "# [[0.06121857 0.10180167]\n",
    "# [0.83321726 0.54906613]\n",
    "# [0.94170273 0.19447411]]"
   ]
  },
  {
   "cell_type": "code",
   "execution_count": 133,
   "id": "77b8bc13",
   "metadata": {},
   "outputs": [],
   "source": [
    "b = np.random.randn(3,2) # normal/Gaussian distribution, mean 0 and unit variance\n",
    "# no tuple as shape here! each dimension one argument\n",
    "# [[ 0.56759123 -0.65068333]\n",
    "# [ 0.83445762 -0.36436185]\n",
    "# [ 1.27150812 -0.32906051]]"
   ]
  },
  {
   "cell_type": "code",
   "execution_count": 135,
   "id": "fb2ed5d5",
   "metadata": {},
   "outputs": [
    {
     "name": "stdout",
     "output_type": "stream",
     "text": [
      "0.018372692480022917 0.9768879497701731 0.9883764210917686\n"
     ]
    }
   ],
   "source": [
    "c = np.random.randn(10000)\n",
    "print(c.mean(), c.var(), c.std())"
   ]
  },
  {
   "cell_type": "code",
   "execution_count": 136,
   "id": "39afa72a",
   "metadata": {},
   "outputs": [
    {
     "name": "stdout",
     "output_type": "stream",
     "text": [
      "0.11858939163052333\n"
     ]
    }
   ],
   "source": [
    "d = np.random.randn(10, 3)\n",
    "print(d.mean())"
   ]
  },
  {
   "cell_type": "code",
   "execution_count": 138,
   "id": "ce8fd576",
   "metadata": {},
   "outputs": [
    {
     "name": "stdout",
     "output_type": "stream",
     "text": [
      "[[8 5 7]\n",
      " [5 5 8]\n",
      " [9 9 8]]\n"
     ]
    }
   ],
   "source": [
    "# random integer, low,high,size; high is exclusive\n",
    "e = np.random.randint(3,10,size=(3,3)) # if we only pass one parameter, then from 0-x\n",
    "print(e)"
   ]
  },
  {
   "cell_type": "code",
   "execution_count": 139,
   "id": "c4458cdd",
   "metadata": {},
   "outputs": [],
   "source": [
    "# with integer is between 0 up to integer exclusive\n",
    "f = np.random.choice(7, size=10)"
   ]
  },
  {
   "cell_type": "code",
   "execution_count": 140,
   "id": "ab7f9e6d",
   "metadata": {},
   "outputs": [],
   "source": [
    "# with an array it draws random values from this array\n",
    "g = np.random.choice([1,2,3,4], size=8)"
   ]
  },
  {
   "cell_type": "markdown",
   "id": "fed8d360",
   "metadata": {},
   "source": [
    "## Linear Algebra (Eigenvalues / Solving Linear Systems)"
   ]
  },
  {
   "cell_type": "code",
   "execution_count": 141,
   "id": "a6e177e3",
   "metadata": {},
   "outputs": [],
   "source": [
    "a = np.array([[1,2], [3,4]])\n",
    "eigenvalues, eigenvectors = np.linalg.eig(a)\n",
    "# Note: use eigh if your matrix is symmetric (faster)"
   ]
  },
  {
   "cell_type": "code",
   "execution_count": 142,
   "id": "ad6ddaba",
   "metadata": {},
   "outputs": [
    {
     "name": "stdout",
     "output_type": "stream",
     "text": [
      "[-0.37228132  5.37228132]\n"
     ]
    }
   ],
   "source": [
    "print(eigenvalues)"
   ]
  },
  {
   "cell_type": "code",
   "execution_count": 143,
   "id": "22939cd0",
   "metadata": {},
   "outputs": [
    {
     "name": "stdout",
     "output_type": "stream",
     "text": [
      "[[-0.82456484 -0.41597356]\n",
      " [ 0.56576746 -0.90937671]]\n"
     ]
    }
   ],
   "source": [
    "print(eigenvectors) # column vectors"
   ]
  },
  {
   "cell_type": "code",
   "execution_count": 144,
   "id": "2a504f1f",
   "metadata": {},
   "outputs": [
    {
     "name": "stdout",
     "output_type": "stream",
     "text": [
      "[-0.82456484  0.56576746]\n"
     ]
    }
   ],
   "source": [
    "print(eigenvectors[:,0]) # column 0 corresponding to eigenvalue[0]"
   ]
  },
  {
   "cell_type": "code",
   "execution_count": 145,
   "id": "254e5ba8",
   "metadata": {},
   "outputs": [],
   "source": [
    "# verify: e-vec * e-val = A * e-vec\n",
    "d = eigenvectors[:,0] * eigenvalues[0]\n",
    "e = a @ eigenvectors[:, 0]"
   ]
  },
  {
   "cell_type": "code",
   "execution_count": 146,
   "id": "f2b561a4",
   "metadata": {},
   "outputs": [
    {
     "name": "stdout",
     "output_type": "stream",
     "text": [
      "[ 0.30697009 -0.21062466] [ 0.30697009 -0.21062466]\n",
      "[ True False]\n"
     ]
    }
   ],
   "source": [
    "print(d, e) # [ 0.30697009 -0.21062466] [ 0.30697009 -0.21062466]\n",
    "# looks the same, but:\n",
    "print(d == e) "
   ]
  },
  {
   "cell_type": "code",
   "execution_count": 147,
   "id": "e8437a71",
   "metadata": {},
   "outputs": [
    {
     "name": "stdout",
     "output_type": "stream",
     "text": [
      "True\n"
     ]
    }
   ],
   "source": [
    "# correct way to compare matrix\n",
    "print(np.allclose(d,e)) "
   ]
  },
  {
   "cell_type": "markdown",
   "id": "3c3f09f7",
   "metadata": {},
   "source": [
    "## Solving Linear Systems"
   ]
  },
  {
   "cell_type": "code",
   "execution_count": 148,
   "id": "ba4971bf",
   "metadata": {},
   "outputs": [
    {
     "name": "stdout",
     "output_type": "stream",
     "text": [
      "[1500.  700.]\n",
      "[1500.  700.]\n"
     ]
    }
   ],
   "source": [
    "# x1 + x2 = 2200\n",
    "# 1.5 x1 + 4 x2 = 5050\n",
    "# -> 2 equations and 2 unknowns\n",
    "\n",
    "A = np.array([[1, 1], [1.5, 4]])\n",
    "b = np.array([2200,5050])\n",
    "\n",
    "# Ax = b <=> x = A-1 b\n",
    "\n",
    "# But: inverse is slow and less accurate\n",
    "x = np.linalg.inv(A).dot(b) # not recommended\n",
    "print(x)\n",
    "\n",
    "# instead use:\n",
    "x = np.linalg.solve(A,b) # good\n",
    "print(x) "
   ]
  },
  {
   "cell_type": "markdown",
   "id": "56b5d09d",
   "metadata": {},
   "source": [
    "## Loading CSV Files"
   ]
  },
  {
   "cell_type": "code",
   "execution_count": null,
   "id": "2f9918bd",
   "metadata": {},
   "outputs": [],
   "source": [
    "# 1) load with np.loadtxt()\n",
    "# skiprows=1, ...\n",
    "data = np.loadtxt('my_file.csv', delimiter=\",\",dtype=np.float32)\n",
    "print(data.shape, data.dtype)\n",
    "\n",
    "# 2) load with np.genfromtxt()\n",
    "# similar but slightly more configuration parameters\n",
    "# skip_header=0, missing_values=\"---\", filling_values=0.0, ...\n",
    "data = np.genfromtxt('my_file.csv', delimiter=\",\", dtype=np.float32)\n",
    "print(data.shape)"
   ]
  }
 ],
 "metadata": {
  "kernelspec": {
   "display_name": "Python 3 (ipykernel)",
   "language": "python",
   "name": "python3"
  },
  "language_info": {
   "codemirror_mode": {
    "name": "ipython",
    "version": 3
   },
   "file_extension": ".py",
   "mimetype": "text/x-python",
   "name": "python",
   "nbconvert_exporter": "python",
   "pygments_lexer": "ipython3",
   "version": "3.9.13"
  }
 },
 "nbformat": 4,
 "nbformat_minor": 5
}
