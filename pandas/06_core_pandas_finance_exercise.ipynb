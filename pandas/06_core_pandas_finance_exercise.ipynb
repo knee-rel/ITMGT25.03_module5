{
 "cells": [
  {
   "cell_type": "markdown",
   "id": "902a2d15",
   "metadata": {},
   "source": [
    "# Pandas Project Exercise - \n",
    "\n",
    "# The Data\n",
    "\n",
    "The dataset contains a list of all stocks included in the SP500 and associated key financials. <br />\n",
    "\n",
    "Note that there are multiple viable solutions for most of the tasks!\n",
    "\n",
    "\n",
    "Acknowledgements\n",
    "----------------------------\n",
    "The dataset was originally provided on https://datahub.io/core/s-and-p-500-companies-financials and is licensed under Open Data Commons Public Domain Dedication and License. (https://opendatacommons.org/licenses/pddl/1-0/)"
   ]
  },
  {
   "cell_type": "markdown",
   "id": "db287ecc",
   "metadata": {},
   "source": [
    "**Task: Import the necessary libraries**"
   ]
  },
  {
   "cell_type": "code",
   "execution_count": null,
   "id": "45af48f1",
   "metadata": {},
   "outputs": [],
   "source": [
    "# CODE HERE"
   ]
  },
  {
   "cell_type": "markdown",
   "id": "fb25c282",
   "metadata": {},
   "source": [
    "**Task: Read the two datasets provided in the current directory (also available in the DATA folder. (The file names are: constituents.csv and constituents-financials.csv)**"
   ]
  },
  {
   "cell_type": "code",
   "execution_count": null,
   "id": "5e79ab12",
   "metadata": {},
   "outputs": [],
   "source": [
    "# CODE HERE"
   ]
  },
  {
   "cell_type": "markdown",
   "id": "d0adc74d",
   "metadata": {},
   "source": [
    "**Task: List all columns of the two datasets. Additionally retrieve the datatype for each column**"
   ]
  },
  {
   "cell_type": "code",
   "execution_count": null,
   "id": "f6004d50",
   "metadata": {},
   "outputs": [],
   "source": [
    "# CODE HERE"
   ]
  },
  {
   "cell_type": "markdown",
   "id": "6b577c07",
   "metadata": {},
   "source": [
    "**Task: Print the first 5 rows of both datasets**"
   ]
  },
  {
   "cell_type": "code",
   "execution_count": null,
   "id": "99ae13ad",
   "metadata": {},
   "outputs": [],
   "source": [
    "# CODE HERE"
   ]
  },
  {
   "cell_type": "markdown",
   "id": "5457ed60",
   "metadata": {},
   "source": [
    "**Task: Drop the SEC Filings column**"
   ]
  },
  {
   "cell_type": "code",
   "execution_count": null,
   "id": "b744a453",
   "metadata": {},
   "outputs": [],
   "source": [
    "# CODE HERE"
   ]
  },
  {
   "cell_type": "markdown",
   "id": "26aa3c4c",
   "metadata": {},
   "source": [
    "**Task: Set the Symbol column to the index in the financials dataset**"
   ]
  },
  {
   "cell_type": "code",
   "execution_count": null,
   "id": "4e57a19a",
   "metadata": {},
   "outputs": [],
   "source": [
    "# CODE HERE"
   ]
  },
  {
   "cell_type": "markdown",
   "id": "25764400",
   "metadata": {},
   "source": [
    "**Task: What are the 10 largest companies according to market cap?**"
   ]
  },
  {
   "cell_type": "code",
   "execution_count": null,
   "id": "38758d7f",
   "metadata": {},
   "outputs": [],
   "source": [
    "# CODE HERE"
   ]
  },
  {
   "cell_type": "markdown",
   "id": "11ab35b6",
   "metadata": {},
   "source": [
    "**Task: Return all information about the 10 largest companies according by market cap**"
   ]
  },
  {
   "cell_type": "code",
   "execution_count": null,
   "id": "443657aa",
   "metadata": {},
   "outputs": [],
   "source": [
    "# CODE HERE"
   ]
  },
  {
   "cell_type": "markdown",
   "id": "1c570297",
   "metadata": {},
   "source": [
    "Note: The difference between GOOG and GOOGL is, that GOOG shares have no voting rights"
   ]
  },
  {
   "cell_type": "markdown",
   "id": "c127740d",
   "metadata": {},
   "source": [
    "**Task: Drop GOOG**"
   ]
  },
  {
   "cell_type": "code",
   "execution_count": null,
   "id": "1ae37179",
   "metadata": {},
   "outputs": [],
   "source": [
    "# CODE HERE"
   ]
  },
  {
   "cell_type": "markdown",
   "id": "8d869ee1",
   "metadata": {},
   "source": [
    "**Task: How many companies have a dividend yield > 4% ?**"
   ]
  },
  {
   "cell_type": "code",
   "execution_count": null,
   "id": "07291b0a",
   "metadata": {},
   "outputs": [],
   "source": [
    "# CODE HERE"
   ]
  },
  {
   "cell_type": "markdown",
   "id": "4d25ad9b",
   "metadata": {},
   "source": [
    "**Task: What is the mean Earnings per Share for all companies with a market cap > 1e+11**"
   ]
  },
  {
   "cell_type": "code",
   "execution_count": null,
   "id": "5772c144",
   "metadata": {},
   "outputs": [],
   "source": [
    "# CODE HERE"
   ]
  },
  {
   "cell_type": "markdown",
   "id": "dcc77dee",
   "metadata": {},
   "source": [
    "**Task: How many companies have a positive earnings per shares ratio?**"
   ]
  },
  {
   "cell_type": "code",
   "execution_count": null,
   "id": "232023be",
   "metadata": {},
   "outputs": [],
   "source": [
    "# CODE HERE"
   ]
  },
  {
   "cell_type": "markdown",
   "id": "d14eb3eb",
   "metadata": {},
   "source": [
    "**Task: Which company pays the highest dividend yield? What was its 52 week high?**"
   ]
  },
  {
   "cell_type": "code",
   "execution_count": null,
   "id": "3c794b1a",
   "metadata": {},
   "outputs": [],
   "source": [
    "# CODE HERE"
   ]
  },
  {
   "cell_type": "markdown",
   "id": "0eac3434",
   "metadata": {},
   "source": [
    "**Task: Return the company with the largest spread between 52 weeks high and low**"
   ]
  },
  {
   "cell_type": "code",
   "execution_count": null,
   "id": "9f895f5c",
   "metadata": {},
   "outputs": [],
   "source": [
    "# CODE HERE"
   ]
  },
  {
   "cell_type": "markdown",
   "id": "75cbeabe",
   "metadata": {},
   "source": [
    "**Task: Return all companies whith a price between \\\\$ 50 and \\\\$ 100**"
   ]
  },
  {
   "cell_type": "code",
   "execution_count": null,
   "id": "0575824d",
   "metadata": {},
   "outputs": [],
   "source": [
    "# CODE HERE"
   ]
  },
  {
   "cell_type": "markdown",
   "id": "b93e77bc",
   "metadata": {},
   "source": [
    "**Task: The market cap is really hard to read. Create a new column called \"Market Cap in Billion\" which shows the market cap in billions**"
   ]
  },
  {
   "cell_type": "code",
   "execution_count": null,
   "id": "4797920a",
   "metadata": {},
   "outputs": [],
   "source": [
    "# CODE HERE"
   ]
  },
  {
   "cell_type": "markdown",
   "id": "5639008b",
   "metadata": {},
   "source": [
    "**Task: Is there a correlation between the market cap and the Dividend Yield?**"
   ]
  },
  {
   "cell_type": "code",
   "execution_count": null,
   "id": "a5b630f9",
   "metadata": {},
   "outputs": [],
   "source": [
    "# CODE HERE"
   ]
  },
  {
   "cell_type": "markdown",
   "id": "0b746ed8",
   "metadata": {},
   "source": [
    "**Task: Merge the financials dataframe with the constituents dataframe**"
   ]
  },
  {
   "cell_type": "code",
   "execution_count": null,
   "id": "63bc0ded",
   "metadata": {},
   "outputs": [],
   "source": [
    "# CODE HERE"
   ]
  },
  {
   "cell_type": "markdown",
   "id": "d052e23f",
   "metadata": {},
   "source": [
    "**Task: Print all sectors. How often does each sector occur?**"
   ]
  },
  {
   "cell_type": "code",
   "execution_count": null,
   "id": "21e123d8",
   "metadata": {},
   "outputs": [],
   "source": [
    "# CODE HERE"
   ]
  },
  {
   "cell_type": "markdown",
   "id": "e1e19e9f",
   "metadata": {},
   "source": [
    "**Task: Replace Information Technology by \"IT\"**"
   ]
  },
  {
   "cell_type": "code",
   "execution_count": null,
   "id": "74ca8416",
   "metadata": {},
   "outputs": [],
   "source": [
    "#CODE HERE"
   ]
  },
  {
   "cell_type": "markdown",
   "id": "0ee2d336",
   "metadata": {},
   "source": [
    "**Task: Add a \\$ before the stock price**"
   ]
  },
  {
   "cell_type": "code",
   "execution_count": null,
   "id": "504d88a1",
   "metadata": {},
   "outputs": [],
   "source": [
    "# CODE HERE"
   ]
  }
 ],
 "metadata": {
  "kernelspec": {
   "display_name": "Python 3 (ipykernel)",
   "language": "python",
   "name": "python3"
  },
  "language_info": {
   "codemirror_mode": {
    "name": "ipython",
    "version": 3
   },
   "file_extension": ".py",
   "mimetype": "text/x-python",
   "name": "python",
   "nbconvert_exporter": "python",
   "pygments_lexer": "ipython3",
   "version": "3.9.13"
  }
 },
 "nbformat": 4,
 "nbformat_minor": 5
}
